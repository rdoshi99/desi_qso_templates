{
 "cells": [
  {
   "cell_type": "markdown",
   "metadata": {},
   "source": [
    "### directions for running redrock"
   ]
  },
  {
   "cell_type": "raw",
   "metadata": {},
   "source": [
    "cd /global/cfs/cdirs/desi/users/rdoshi99/desi_qso_templates/data_vX/"
   ]
  },
  {
   "cell_type": "markdown",
   "metadata": {},
   "source": [
    "git clone https://github.com/desihub/redrock-templates.git"
   ]
  },
  {
   "cell_type": "markdown",
   "metadata": {},
   "source": [
    "Copy your QSO template into the `redrock-templates` folder under the name `rrtemplate-qso.fits`"
   ]
  },
  {
   "cell_type": "raw",
   "metadata": {},
   "source": [
    "mkdir rrqso"
   ]
  },
  {
   "cell_type": "raw",
   "metadata": {},
   "source": [
    "cd rrqso"
   ]
  },
  {
   "cell_type": "raw",
   "metadata": {},
   "source": [
    "salloc -N 5 -C haswell -t 60 --qos interactive"
   ]
  },
  {
   "cell_type": "raw",
   "metadata": {},
   "source": [
    "templates_dir=/global/cfs/cdirs/desi/users/rdoshi99/desi_qso_templates/data_vX"
   ]
  },
  {
   "cell_type": "raw",
   "metadata": {},
   "source": [
    "indir=/global/cfs/cdirs/desi/spectro/redux/daily/tiles/68002/20200315/"
   ]
  },
  {
   "cell_type": "raw",
   "metadata": {},
   "source": [
    "time srun -n 160 -c 2 rrdesi_mpi -t $templates_dir/redrock-templates \\\n",
    "    $indir/coadd-*.fits -z zbest-hmf-68002.fits"
   ]
  },
  {
   "cell_type": "markdown",
   "metadata": {},
   "source": [
    "That should take ~10 minutes.  To use the standard redrock templates, run the same command while leaving off the \n",
    "\n",
    "`-t ...` \n",
    "\n",
    "option."
   ]
  },
  {
   "cell_type": "raw",
   "metadata": {},
   "source": [
    "salloc -N 5 -C haswell -t 60 --qos interactive"
   ]
  },
  {
   "cell_type": "raw",
   "metadata": {},
   "source": [
    "indir=/global/cfs/cdirs/desi/spectro/redux/daily/tiles/68002/20200315/"
   ]
  },
  {
   "cell_type": "raw",
   "metadata": {},
   "source": [
    "time srun -n 160 -c 2 rrdesi_mpi $indir/coadd-*.fits -z zbest-hmf-68002-rr.fits"
   ]
  },
  {
   "cell_type": "code",
   "execution_count": null,
   "metadata": {},
   "outputs": [],
   "source": []
  },
  {
   "cell_type": "code",
   "execution_count": null,
   "metadata": {},
   "outputs": [],
   "source": []
  },
  {
   "cell_type": "markdown",
   "metadata": {},
   "source": [
    "An example is at \n",
    "\n",
    "    /global/cscratch1/sd/sjbailey/desi/rrqso/zbest-hmf-68002.fits\n",
    "\n",
    "A truth table of visually inspected correct redshifts is at\n",
    "\n",
    "    /global/cfs/cdirs/desi/sv/vi/TruthTables/truth_table_QSO_tile68002_night20200315.csv .  \n",
    "\n",
    "To read these and combine with your redrock run:"
   ]
  },
  {
   "cell_type": "raw",
   "metadata": {},
   "source": [
    "from astropy.table import Table, join\n",
    "import os\n",
    "\n",
    "rr = Table.read(os.path.expandvars('$SCRATCH/desi/rrqso/zbest-hmf-68002.fits'), 'ZBEST')\n",
    "truth = Table.read('/global/cfs/cdirs/desi/sv/vi/TruthTables/truth_table_QSO_tile68002_night20200315.csv')\n",
    "\n",
    "#- Filter down to just the confident entries in the truth table\n",
    "goodtruth = truth['best class'] > 2.5\n",
    "truth = truth[goodtruth]\n",
    "\n",
    "#- filter to just the confident redrock answers ZWARN=0 = no warnings = good\n",
    "goodrr = rr['ZWARN'] == 0\n",
    "rr = rr[goodrr]\n",
    "\n",
    "#- Merge with the redrock results, joining on the TARGETID column\n",
    "truth.rename_column('TargetID', 'TARGETID')\n",
    "compare = join(truth, rr, keys='TARGETID')\n",
    "\n",
    "#- plot them (oops)\n",
    "plot(compare['best z'], compare['Z'], '.')\n"
   ]
  }
 ],
 "metadata": {
  "kernelspec": {
   "display_name": "Python 3",
   "language": "python",
   "name": "python3"
  },
  "language_info": {
   "codemirror_mode": {
    "name": "ipython",
    "version": 3
   },
   "file_extension": ".py",
   "mimetype": "text/x-python",
   "name": "python",
   "nbconvert_exporter": "python",
   "pygments_lexer": "ipython3",
   "version": "3.7.4"
  },
  "widgets": {
   "application/vnd.jupyter.widget-state+json": {
    "state": {},
    "version_major": 2,
    "version_minor": 0
   }
  }
 },
 "nbformat": 4,
 "nbformat_minor": 4
}
