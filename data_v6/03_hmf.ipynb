{
 "cells": [
  {
   "cell_type": "code",
   "execution_count": 1,
   "metadata": {},
   "outputs": [
    {
     "name": "stdout",
     "output_type": "stream",
     "text": [
      "Populating the interactive namespace from numpy and matplotlib\n"
     ]
    }
   ],
   "source": [
    "%pylab inline\n",
    "import pickle\n",
    "import numpy as np\n",
    "from astropy.table import Table"
   ]
  },
  {
   "cell_type": "code",
   "execution_count": 2,
   "metadata": {},
   "outputs": [],
   "source": [
    "def hmf_weighted(fluxes, ivars, j, num_iter=20, load=False, filestring_a='', filestring_b='', curr_iter=0):\n",
    "    \"\"\"\n",
    "    TODO: docstring\n",
    "    \"\"\"\n",
    "    # ensures that the number of nonzero observations must be 5x \n",
    "    # the number of vectors, j=nvec\n",
    "    # fluxes, ivars = enough_obs(fluxes, ivars, min_spectra=j*10)\n",
    "    \n",
    "    if not load:\n",
    "        S = fluxes.T # with dimensions S[nwave, nspec]\n",
    "        W = ivars.T # the weights matrix with dimensions W[nwave, nspec]\n",
    "        V = np.random.rand(S.shape[0], j)\n",
    "        C = np.zeros((j, S.shape[1]))\n",
    "\n",
    "    else:\n",
    "        if (not filestring_a) or (not filestring_b):\n",
    "            print('error: please pass in the correct filestrings to load V and C model components')\n",
    "            return            \n",
    "        V, C = load_arrays(filestring_a, filestring_b)\n",
    "        S = fluxes.T # with dimensions S[nwave, nspec]\n",
    "        W = ivars.T # weights matrix with dims W[nwave, nspec]\n",
    "\n",
    "    # track chi stat over time\n",
    "    chistats = np.zeros((num_iter,))\n",
    "    \n",
    "    # iterate\n",
    "    i = curr_iter\n",
    "    while(i < num_iter): #TODO: Legit Stopping condition\n",
    "        C = solveCoeffs(S, W, V, C)\n",
    "        V = solveEigvecs(S, W, V, C)\n",
    "        \n",
    "        # evaluate model\n",
    "        chi_stat = eval_model(S, W, V, C)\n",
    "        print('chi stat is {}'.format(chi_stat), flush=True)\n",
    "        chistats = np.append(chistats, chi_stat)\n",
    "\n",
    "        # dump files to disk\n",
    "        with open(\"./hmf_templates/model_V_iter_{}.pkl\".format(i),\"wb\") as file:\n",
    "            pickle.dump(V,file)\n",
    "    \n",
    "        with open(\"./hmf_templates/model_C_iter_{}.pkl\".format(i), \"wb\") as file:\n",
    "            pickle.dump(C, file)\n",
    "        \n",
    "        i+=1\n",
    "    C = solveCoeffs(S, W, V, C) # solve coeffs one last time\n",
    "    return V, C, chistats\n"
   ]
  },
  {
   "cell_type": "code",
   "execution_count": 3,
   "metadata": {},
   "outputs": [],
   "source": [
    "def solveCoeffs(S, W, V, C):\n",
    "    \"\"\"\n",
    "    TODO: docstring\n",
    "    \"\"\"\n",
    "    A = np.zeros((C.shape[1], C.shape[0], C.shape[0]))    \n",
    "    b = np.zeros((C.shape[1], C.shape[0]))\n",
    "    \n",
    "    output_cached_mat = np.zeros((C.shape[0], V.shape[0]))\n",
    "    \n",
    "    for i in range(C.shape[1]): # iterate over all rows of S\n",
    "        spec_i = S[:, i]\n",
    "        D = np.diag(W[:, i]) # diagonal matrix of weights corresponding to spec_i\n",
    "        \n",
    "        # V^T * D * spec_i = (V^T * D * V) * coeff[:, i]\n",
    "        # solver determines x where Ax = b, solve for the coefficients column that corresponds to spec_i\n",
    "        np.dot(V.T, D, out=output_cached_mat)\n",
    "        np.dot(output_cached_mat, V, out=A[i])\n",
    "        np.dot(output_cached_mat, spec_i, out=b[i])\n",
    "    \n",
    "    C = np.linalg.solve(A, b).T\n",
    "    return C"
   ]
  },
  {
   "cell_type": "code",
   "execution_count": 4,
   "metadata": {},
   "outputs": [],
   "source": [
    "def solveEigvecs(S, W, V, C):\n",
    "    \"\"\"\n",
    "    TODO: docstring\n",
    "    \"\"\"\n",
    "    A = np.zeros((V.shape[0], V.shape[1], V.shape[1]))\n",
    "    b = np.zeros((V.shape[0], V.shape[1],))\n",
    "    output_cached_mat = np.zeros((V.shape[1], C.shape[1]))\n",
    "    \n",
    "    for lam in range(V.shape[0]): # iterate over all wavelengths\n",
    "        wave_lam = S[lam, :]\n",
    "        D = np.diag(W[lam, :])\n",
    "        \n",
    "        # C * D * wave_lam = (C * D * C.T) * eigvec[:, j]\n",
    "        # solver determines x where Ax = b\n",
    "        np.dot(C, D, out=output_cached_mat)\n",
    "        np.dot(output_cached_mat, C.T, out=A[lam])\n",
    "        np.dot(output_cached_mat, wave_lam.T, out=b[lam])\n",
    "    \n",
    "    V = np.linalg.solve(A, b) # V[lam] = V[lam, :]\n",
    "    return V"
   ]
  },
  {
   "cell_type": "code",
   "execution_count": 5,
   "metadata": {},
   "outputs": [],
   "source": [
    "def eval_model(S, W, V, C):\n",
    "    \"\"\"\n",
    "    Evaluates the model by computing Delta = S - VC \n",
    "    and then calculating Chi2 = SUM[W(lam, i) * Delta(lam, i)**2] over all wavelengths lam and spectra i\n",
    "    \"\"\"\n",
    "    Delta = S - np.dot(V, C)\n",
    "    D_squared = np.multiply(Delta, Delta)\n",
    "    chi_stat = np.multiply(W, D_squared)\n",
    "    return np.sum(np.sum(chi_stat))"
   ]
  },
  {
   "cell_type": "code",
   "execution_count": 6,
   "metadata": {},
   "outputs": [],
   "source": [
    "def load_arrays(filestring_V, filestring_C):\n",
    "    \"\"\"\n",
    "    TODO: docstring\n",
    "    \"\"\"\n",
    "    with open(filestring_V, \"rb\") as file:\n",
    "        V = pickle.load(file)\n",
    "    with open(filestring_C, \"rb\") as file:\n",
    "        C = pickle.load(file)\n",
    "    return V, C"
   ]
  },
  {
   "cell_type": "code",
   "execution_count": 7,
   "metadata": {},
   "outputs": [],
   "source": [
    "with open(\"./cleaned_spectra/fluxes_clean.pkl\",\"rb\") as file:\n",
    "    fluxes = pickle.load(file)\n",
    "\n",
    "with open(\"./cleaned_spectra/ivars_clean.pkl\",\"rb\") as file:\n",
    "    ivars = pickle.load(file)\n",
    "    \n",
    "with open(\"./cleaned_spectra/restlams_clean.pkl\", \"rb\") as file:\n",
    "    rest_loglams = pickle.load(file)\n",
    "    \n",
    "with open(\"./cleaned_spectra/wavelengths_clean.pkl\", \"rb\") as file:\n",
    "    wavelengths = pickle.load(file)\n",
    "    \n",
    "qsocat = Table.read(\"./cleaned_spectra/qsocat_clean.fits\")"
   ]
  },
  {
   "cell_type": "code",
   "execution_count": 8,
   "metadata": {},
   "outputs": [
    {
     "name": "stdout",
     "output_type": "stream",
     "text": [
      "(23396, 12938)\n"
     ]
    }
   ],
   "source": [
    "print(fluxes.shape)"
   ]
  },
  {
   "cell_type": "code",
   "execution_count": 9,
   "metadata": {},
   "outputs": [],
   "source": [
    "min_per_lam=50\n",
    "rest_offset = 2.6"
   ]
  },
  {
   "cell_type": "code",
   "execution_count": 10,
   "metadata": {},
   "outputs": [],
   "source": [
    "with open(\"./hmf_templates/fluxes.pkl\",\"wb\") as file:\n",
    "    pickle.dump(fluxes, file)\n",
    "\n",
    "with open(\"./hmf_templates/ivars.pkl\",\"wb\") as file:\n",
    "    pickle.dump(ivars, file)\n",
    "\n",
    "with open(\"./hmf_templates/rest_loglams.pkl\",\"wb\") as file:\n",
    "    pickle.dump(rest_loglams, file)\n",
    "\n",
    "with open(\"./hmf_templates/wavelengths.pkl\",\"wb\") as file:\n",
    "    pickle.dump(wavelengths, file)\n",
    "\n",
    "qsocat.write('./hmf_templates/qsocat.fits', format='fits', overwrite=True)"
   ]
  },
  {
   "cell_type": "code",
   "execution_count": 11,
   "metadata": {},
   "outputs": [
    {
     "data": {
      "image/png": "[encoded data removed]",
      "text/plain": [
       "<Figure size 432x288 with 1 Axes>"
      ]
     },
     "metadata": {
      "needs_background": "light"
     },
     "output_type": "display_data"
    }
   ],
   "source": [
    "plot(rest_loglams, np.average(fluxes, axis=0, weights=ivars));"
   ]
  },
  {
   "cell_type": "code",
   "execution_count": 12,
   "metadata": {},
   "outputs": [
    {
     "name": "stdout",
     "output_type": "stream",
     "text": [
      "chi stat is 207414371.76787028\n",
      "chi stat is 132824630.49096845\n",
      "chi stat is 129046194.75699441\n",
      "chi stat is 128083731.4436735\n",
      "chi stat is 127645739.25247803\n",
      "chi stat is 127350186.62576103\n",
      "chi stat is 127129833.0489741\n",
      "chi stat is 126972607.96353802\n",
      "chi stat is 126861114.19477546\n",
      "chi stat is 126778350.28096418\n",
      "chi stat is 126713487.47121051\n",
      "chi stat is 126660351.65702108\n",
      "chi stat is 126615449.23235723\n",
      "chi stat is 126576707.2074285\n",
      "chi stat is 126542769.47205774\n",
      "CPU times: user 3d 21h 31min 14s, sys: 2d 7h 44min 20s, total: 6d 5h 15min 35s\n",
      "Wall time: 3d 2h 44min 15s\n"
     ]
    }
   ],
   "source": [
    "%%time\n",
    "V, C, chistats = hmf_weighted(fluxes, ivars, 10, num_iter=15,)"
   ]
  },
  {
   "cell_type": "code",
   "execution_count": 13,
   "metadata": {},
   "outputs": [],
   "source": [
    "with open(\"./hmf_templates/model_V.pkl\",\"wb\") as file:\n",
    "    pickle.dump(V,file)\n",
    "\n",
    "with open(\"./hmf_templates/model_C.pkl\", \"wb\") as file:\n",
    "    pickle.dump(C, file)"
   ]
  },
  {
   "cell_type": "code",
   "execution_count": 14,
   "metadata": {},
   "outputs": [],
   "source": [
    "model = np.dot(V, C).T"
   ]
  },
  {
   "cell_type": "code",
   "execution_count": 15,
   "metadata": {},
   "outputs": [
    {
     "data": {
      "text/plain": [
       "(12938,)"
      ]
     },
     "execution_count": 15,
     "metadata": {},
     "output_type": "execute_result"
    }
   ],
   "source": [
    "rest_loglams.shape"
   ]
  },
  {
   "cell_type": "code",
   "execution_count": 16,
   "metadata": {},
   "outputs": [
    {
     "data": {
      "text/plain": [
       "(23396, 12938)"
      ]
     },
     "execution_count": 16,
     "metadata": {},
     "output_type": "execute_result"
    }
   ],
   "source": [
    "fluxes.shape"
   ]
  },
  {
   "cell_type": "code",
   "execution_count": 17,
   "metadata": {},
   "outputs": [
    {
     "data": {
      "text/plain": [
       "(23396, 12938)"
      ]
     },
     "execution_count": 17,
     "metadata": {},
     "output_type": "execute_result"
    }
   ],
   "source": [
    "model.shape"
   ]
  },
  {
   "cell_type": "code",
   "execution_count": 18,
   "metadata": {},
   "outputs": [],
   "source": [
    "with open(\"./hmf_templates/model_hmf.pkl\", \"wb\") as file:\n",
    "    pickle.dump(model, file)"
   ]
  },
  {
   "cell_type": "code",
   "execution_count": 19,
   "metadata": {},
   "outputs": [
    {
     "data": {
      "text/plain": [
       "3.965"
      ]
     },
     "execution_count": 19,
     "metadata": {},
     "output_type": "execute_result"
    }
   ],
   "source": [
    "max(rest_loglams)"
   ]
  },
  {
   "cell_type": "code",
   "execution_count": 20,
   "metadata": {},
   "outputs": [
    {
     "data": {
      "text/plain": [
       "9225.71427154763"
      ]
     },
     "execution_count": 20,
     "metadata": {},
     "output_type": "execute_result"
    }
   ],
   "source": [
    "max(wavelengths)"
   ]
  },
  {
   "cell_type": "code",
   "execution_count": 21,
   "metadata": {},
   "outputs": [
    {
     "data": {
      "text/plain": [
       "0.03451842814683914"
      ]
     },
     "execution_count": 21,
     "metadata": {},
     "output_type": "execute_result"
    }
   ],
   "source": [
    "min(qsocat['Z'])"
   ]
  },
  {
   "cell_type": "code",
   "execution_count": 22,
   "metadata": {},
   "outputs": [
    {
     "data": {
      "text/plain": [
       "0.1130116730928421"
      ]
     },
     "execution_count": 22,
     "metadata": {},
     "output_type": "execute_result"
    }
   ],
   "source": [
    "qsocat['Z'][50]"
   ]
  },
  {
   "cell_type": "code",
   "execution_count": null,
   "metadata": {},
   "outputs": [],
   "source": []
  }
 ],
 "metadata": {
  "kernelspec": {
   "display_name": "Python 3",
   "language": "python",
   "name": "python3"
  },
  "language_info": {
   "codemirror_mode": {
    "name": "ipython",
    "version": 3
   },
   "file_extension": ".py",
   "mimetype": "text/x-python",
   "name": "python",
   "nbconvert_exporter": "python",
   "pygments_lexer": "ipython3",
   "version": "3.7.4"
  },
  "widgets": {
   "application/vnd.jupyter.widget-state+json": {
    "state": {},
    "version_major": 2,
    "version_minor": 0
   }
  }
 },
 "nbformat": 4,
 "nbformat_minor": 4
}
