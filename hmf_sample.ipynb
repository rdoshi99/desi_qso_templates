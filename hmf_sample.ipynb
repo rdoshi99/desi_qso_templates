{
 "cells": [
  {
   "cell_type": "markdown",
   "metadata": {},
   "source": [
    "### HMF algorithm ###"
   ]
  },
  {
   "cell_type": "code",
   "execution_count": 1,
   "metadata": {},
   "outputs": [
    {
     "name": "stdout",
     "output_type": "stream",
     "text": [
      "Populating the interactive namespace from numpy and matplotlib\n"
     ]
    }
   ],
   "source": [
    "import numpy as np\n",
    "%pylab inline"
   ]
  },
  {
   "cell_type": "markdown",
   "metadata": {},
   "source": [
    "**12/27**\n",
    "1) run 1500, 6000 spectra, see how it scales\n",
    "\n",
    "2) run it with many more iterations (10, 20) to see it converge\n",
    "\n",
    "    - make a set of eigenvectors with as many spectra as possible\n",
    "    \n",
    "3) pass HMF vectors (model M=V@C) back into empca without noise-weighting\n",
    "\n",
    "4) confirm that this updated notebook is in github\n"
   ]
  },
  {
   "cell_type": "code",
   "execution_count": null,
   "metadata": {},
   "outputs": [],
   "source": []
  },
  {
   "cell_type": "code",
   "execution_count": 2,
   "metadata": {},
   "outputs": [],
   "source": [
    "# PSEUDOCODE\n",
    "# transpose S so fluxes = fluxes.T\n",
    "# an input to hmf_weighted should be how many vectors to solve for, j\n",
    "# V has dim (nwave, n)\n",
    "def hmf_weighted(fluxes, ivars, j, num_iter=20):\n",
    "    \"\"\"\n",
    "    # TODO: docstring\n",
    "    \"\"\"\n",
    "    # ensures that the number of nonzero observations must be 5x \n",
    "    # the number of vectors, j=nvec\n",
    "    fluxes, ivars = enough_obs(fluxes, ivars, j, mult_factor=10)\n",
    "    \n",
    "    \n",
    "    S = fluxes.T # with dimensions S[nwave, nspec]\n",
    "    W = ivars.T # the weights matrix with dimensions W[nwave, nspec]\n",
    "        \n",
    "    i = 0\n",
    "    V = np.random.rand(S.shape[0], j)\n",
    "    C = np.zeros((j, S.shape[1]))\n",
    "    \n",
    "    # track chi stat over time\n",
    "    chistats = np.zeros((num_iter,))\n",
    "    \n",
    "    while(i < num_iter): #TODO: Legit Stopping condition\n",
    "        C = solveCoeffs(S, W, V, C)\n",
    "        V = solveEigvecs(S, W, V, C)\n",
    "        \n",
    "        # evaluate model\n",
    "        chi_stat = eval_model(S, W, V, C)\n",
    "        print('chi stat is {}'.format(chi_stat), flush=True)\n",
    "        chistats = np.append(chistats, chi_stat)\n",
    "\n",
    "        i+=1\n",
    "    C = solveCoeffs(S, W, V, C) # solve coeffs one last time\n",
    "    return V, C, chistats"
   ]
  },
  {
   "cell_type": "code",
   "execution_count": 3,
   "metadata": {},
   "outputs": [],
   "source": [
    "def solveCoeffs(S, W, V, C):\n",
    "    \"\"\"\n",
    "    TODO: docstring\n",
    "    \"\"\"\n",
    "    output_cached_mat = np.zeros((C.shape[0], V.shape[0]))\n",
    "    output_A = np.zeros((C.shape[0], C.shape[0]))\n",
    "    output_b = np.zeros((C.shape[0],))\n",
    "    \n",
    "    for i in range(C.shape[1]): # iterate over all rows of S\n",
    "        spec_i = S[:, i]\n",
    "        D = np.diag(W[:, i]) # diagonal matrix of weights corresponding to spec_i\n",
    "        \n",
    "        # V^T * D * spec_i = (V^T * D * V) * coeff[:, i]\n",
    "        # solver determines x where Ax = b, solve for the coefficients column that corresponds to spec_i\n",
    "        np.dot(V.T, D, out=output_cached_mat)\n",
    "        np.dot(output_cached_mat, V, out=output_A)\n",
    "        np.dot(output_cached_mat, spec_i, out=output_b)\n",
    "        \n",
    "        coeffs_i = np.linalg.solve(output_A, output_b)\n",
    "        C[:, i] = coeffs_i\n",
    "    return C"
   ]
  },
  {
   "cell_type": "code",
   "execution_count": 4,
   "metadata": {},
   "outputs": [],
   "source": [
    "def solveEigvecs(S, W, V, C):\n",
    "    \"\"\"\n",
    "    TODO: docstring\n",
    "    \"\"\"\n",
    "    output_cached_mat = np.zeros((V.shape[1], C.shape[1]))\n",
    "    output_A = np.zeros((V.shape[1], V.shape[1]))\n",
    "    output_b = np.zeros((V.shape[1],))\n",
    "    \n",
    "    for lam in range(V.shape[0]): # iterate over all wavelengths\n",
    "        wave_lam = S[lam, :]\n",
    "        D = np.diag(W[lam, :])\n",
    "        \n",
    "        # C * D * wave_lam = (C * D * C.T) * eigvec[:, j]\n",
    "        # solver determines x where Ax = b\n",
    "        np.dot(C, D, out=output_cached_mat)\n",
    "        np.dot(output_cached_mat, C.T, out=output_A)\n",
    "        np.dot(output_cached_mat, wave_lam.T, out=output_b)\n",
    "        \n",
    "        eigvec_lam = np.linalg.solve(output_A, output_b)\n",
    "        \n",
    "        V[lam] = eigvec_lam # V[lam] = V[lam, :]\n",
    "    return V"
   ]
  },
  {
   "cell_type": "code",
   "execution_count": 5,
   "metadata": {},
   "outputs": [],
   "source": [
    "def enough_obs(fluxes, ivars, j, mult_factor=5):\n",
    "    \"\"\"\n",
    "    TODO: docstring\n",
    "    \"\"\"\n",
    "    num_ivars_for_wavelength = np.sum(ivars>0, axis=0)\n",
    "    nonzero_idx = num_ivars_for_wavelength > mult_factor*j\n",
    "    fluxes = fluxes[:, nonzero_idx]\n",
    "    ivars = ivars[:, nonzero_idx]\n",
    "    return fluxes, ivars"
   ]
  },
  {
   "cell_type": "code",
   "execution_count": 6,
   "metadata": {},
   "outputs": [],
   "source": [
    "def eval_model(S, W, V, C):\n",
    "    \"\"\"\n",
    "    Evaluates the model by computing Delta = S - VC \n",
    "    and then calculating Chi2 = SUM[W(lam, i) * Delta(lam, i)**2] over all wavelengths lam and spectra i\n",
    "    \"\"\"\n",
    "    Delta = S - np.dot(V, C)\n",
    "    D_squared = np.multiply(Delta, Delta)\n",
    "    chi_stat = np.multiply(W, D_squared)\n",
    "    return np.sum(np.sum(chi_stat))"
   ]
  },
  {
   "cell_type": "code",
   "execution_count": null,
   "metadata": {},
   "outputs": [],
   "source": []
  },
  {
   "cell_type": "code",
   "execution_count": null,
   "metadata": {},
   "outputs": [],
   "source": []
  },
  {
   "cell_type": "markdown",
   "metadata": {},
   "source": [
    "### running HMF"
   ]
  },
  {
   "cell_type": "code",
   "execution_count": 7,
   "metadata": {},
   "outputs": [],
   "source": [
    "###Extract from file\n",
    "import pickle\n",
    "with open(\"../qso/fluxes_5000_good.pkl\",\"rb\") as file:\n",
    "    fluxes = pickle.load(file)\n",
    "\n",
    "with open(\"../qso/ivars_5000_good.pkl\",\"rb\") as file:\n",
    "    ivars = pickle.load(file)"
   ]
  },
  {
   "cell_type": "code",
   "execution_count": null,
   "metadata": {},
   "outputs": [],
   "source": [
    "V, C = hmf_weighted(fluxes, ivars, 5)"
   ]
  },
  {
   "cell_type": "code",
   "execution_count": null,
   "metadata": {},
   "outputs": [],
   "source": [
    "V.shape"
   ]
  },
  {
   "cell_type": "code",
   "execution_count": null,
   "metadata": {},
   "outputs": [],
   "source": [
    "C.shape"
   ]
  },
  {
   "cell_type": "code",
   "execution_count": null,
   "metadata": {},
   "outputs": [],
   "source": [
    "final_chi = eval_model(fluxes.T, ivars.T, V, C)\n",
    "print(final_chi)"
   ]
  },
  {
   "cell_type": "code",
   "execution_count": null,
   "metadata": {},
   "outputs": [],
   "source": [
    "plot(chistats);"
   ]
  },
  {
   "cell_type": "code",
   "execution_count": null,
   "metadata": {},
   "outputs": [],
   "source": [
    "with open(\"model_5000_V.pkl\",\"wb\") as file:\n",
    "    pickle.dump(V,file)\n",
    "    \n",
    "with open(\"model_5000_C.pkl\", \"wb\") as file:\n",
    "    pickle.dump(C, file)"
   ]
  },
  {
   "cell_type": "code",
   "execution_count": null,
   "metadata": {},
   "outputs": [],
   "source": [
    "###Extract from file\n",
    "import pickle\n",
    "with open(\"model_5000_V.pkl\",\"rb\") as file:\n",
    "    V = pickle.load(file)\n",
    "\n",
    "with open(\"model_5000_C.pkl\",\"rb\") as file:\n",
    "    C = pickle.load(file)"
   ]
  },
  {
   "cell_type": "code",
   "execution_count": 40,
   "metadata": {},
   "outputs": [
    {
     "data": {
      "image/png": "[encoded data removed]",
      "text/plain": [
       "<matplotlib.figure.Figure at 0x2aaaed950160>"
      ]
     },
     "metadata": {},
     "output_type": "display_data"
    }
   ],
   "source": [
    "plot(V[:,0]);"
   ]
  },
  {
   "cell_type": "code",
   "execution_count": 41,
   "metadata": {},
   "outputs": [
    {
     "data": {
      "image/png": "[encoded data removed]",
      "text/plain": [
       "<matplotlib.figure.Figure at 0x2aaaed9af1d0>"
      ]
     },
     "metadata": {},
     "output_type": "display_data"
    }
   ],
   "source": [
    "plot(V[:,1]);"
   ]
  },
  {
   "cell_type": "code",
   "execution_count": 42,
   "metadata": {},
   "outputs": [
    {
     "data": {
      "image/png": "[encoded data removed]",
      "text/plain": [
       "<matplotlib.figure.Figure at 0x2aaaeda31828>"
      ]
     },
     "metadata": {},
     "output_type": "display_data"
    }
   ],
   "source": [
    "plot(V[:,2]);"
   ]
  },
  {
   "cell_type": "code",
   "execution_count": 43,
   "metadata": {},
   "outputs": [
    {
     "data": {
      "image/png": "[encoded data removed]",
      "text/plain": [
       "<matplotlib.figure.Figure at 0x2aaaeda61eb8>"
      ]
     },
     "metadata": {},
     "output_type": "display_data"
    }
   ],
   "source": [
    "plot(V[:,3]);"
   ]
  },
  {
   "cell_type": "code",
   "execution_count": 44,
   "metadata": {},
   "outputs": [
    {
     "data": {
      "image/png": "[encoded data removed]",
      "text/plain": [
       "<matplotlib.figure.Figure at 0x2aaaedae7780>"
      ]
     },
     "metadata": {},
     "output_type": "display_data"
    }
   ],
   "source": [
    "plot(V[:,4]);"
   ]
  },
  {
   "cell_type": "code",
   "execution_count": null,
   "metadata": {},
   "outputs": [],
   "source": []
  },
  {
   "cell_type": "code",
   "execution_count": null,
   "metadata": {},
   "outputs": [],
   "source": []
  },
  {
   "cell_type": "code",
   "execution_count": null,
   "metadata": {},
   "outputs": [],
   "source": []
  },
  {
   "cell_type": "code",
   "execution_count": null,
   "metadata": {},
   "outputs": [],
   "source": []
  }
 ],
 "metadata": {
  "kernelspec": {
   "display_name": "DESI 19.2",
   "language": "python",
   "name": "desi-19.2"
  },
  "language_info": {
   "codemirror_mode": {
    "name": "ipython",
    "version": 3
   },
   "file_extension": ".py",
   "mimetype": "text/x-python",
   "name": "python",
   "nbconvert_exporter": "python",
   "pygments_lexer": "ipython3",
   "version": "3.6.6"
  }
 },
 "nbformat": 4,
 "nbformat_minor": 4
}
